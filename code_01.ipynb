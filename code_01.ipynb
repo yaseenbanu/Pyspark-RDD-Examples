{
 "cells": [
  {
   "cell_type": "markdown",
   "metadata": {},
   "source": [
    "**Table of contents**<a id='toc0_'></a>    \n",
    "- [Create an RDD from a list](#toc1_)    \n",
    "- [Create an RDD from a list of tuples](#toc2_)    \n",
    "- [Create an RDD from a text file(csv)](#toc3_)    \n",
    "- [Create an RDD from the Existing RDD with a constant column](#toc4_)    \n",
    "- [Create an Empty RDD](#toc5_)    \n",
    "- [Create a Key-Value RDD](#toc6_)    \n",
    "\n",
    "<!-- vscode-jupyter-toc-config\n",
    "\tnumbering=false\n",
    "\tanchor=true\n",
    "\tflat=false\n",
    "\tminLevel=1\n",
    "\tmaxLevel=6\n",
    "\t/vscode-jupyter-toc-config -->\n",
    "<!-- THIS CELL WILL BE REPLACED ON TOC UPDATE. DO NOT WRITE YOUR TEXT IN THIS CELL -->"
   ]
  },
  {
   "cell_type": "code",
   "execution_count": 2,
   "metadata": {},
   "outputs": [],
   "source": [
    "from pyspark.sql import SparkSession\n",
    "spark = SparkSession.builder.appName(\"RDD-Examples\").getOrCreate()"
   ]
  },
  {
   "cell_type": "markdown",
   "metadata": {},
   "source": [
    "# <a id='toc1_'></a>[Create an RDD from a list](#toc0_)"
   ]
  },
  {
   "cell_type": "code",
   "execution_count": 2,
   "metadata": {},
   "outputs": [
    {
     "data": {
      "text/plain": [
       "[0, 1, 2, 3, 4, 5, 6, 7, 8, 9]"
      ]
     },
     "execution_count": 2,
     "metadata": {},
     "output_type": "execute_result"
    }
   ],
   "source": [
    "numbers = list(range(10))\n",
    "rdd = spark.sparkContext.parallelize(numbers)\n",
    "rdd.collect()"
   ]
  },
  {
   "cell_type": "markdown",
   "metadata": {},
   "source": [
    "# <a id='toc2_'></a>[Create an RDD from a list of tuples](#toc0_)"
   ]
  },
  {
   "cell_type": "code",
   "execution_count": 3,
   "metadata": {},
   "outputs": [
    {
     "data": {
      "text/plain": [
       "[('Alice', 25), ('Bob', 30), ('Charlie', 35), ('Alice', 40)]"
      ]
     },
     "execution_count": 3,
     "metadata": {},
     "output_type": "execute_result"
    }
   ],
   "source": [
    "data = [(\"Alice\", 25), (\"Bob\", 30), (\"Charlie\", 35), (\"Alice\", 40)]\n",
    "rdd_1 = spark.sparkContext.parallelize(data)\n",
    "rdd_1.collect()"
   ]
  },
  {
   "cell_type": "markdown",
   "metadata": {},
   "source": [
    "# <a id='toc3_'></a>[Create an RDD from a text file(csv)](#toc0_)"
   ]
  },
  {
   "cell_type": "code",
   "execution_count": 5,
   "metadata": {},
   "outputs": [
    {
     "name": "stdout",
     "output_type": "stream",
     "text": [
      "+----------+------------+-------------+--------+\n",
      "|rechargeid|rechargedate|remainingdays|validity|\n",
      "+----------+------------+-------------+--------+\n",
      "|   r201235|    20200511|            1|  online|\n",
      "|   r201236|    20210315|            3| offline|\n",
      "|   r201237|    20220101|            5|  online|\n",
      "|   r201238|    20211225|            7| offline|\n",
      "|   r201239|    20221010|            2|  online|\n",
      "+----------+------------+-------------+--------+\n",
      "\n"
     ]
    }
   ],
   "source": [
    "rdd_2 = spark.sparkContext.textFile(\"./data/data1.csv\").map(lambda a: a.split(\",\"))\n",
    "rdd_2.collect()\n",
    "\n",
    "# [['rechargeid', 'rechargedate', 'remainingdays', 'validity'],\n",
    "#  ['r201235', '20200511', '1', 'online'],\n",
    "#  ['r201236', '20210315', '3', 'offline'],\n",
    "#  ['r201237', '20220101', '5', 'online'],\n",
    "#  ['r201238', '20211225', '7', 'offline'],\n",
    "#  ['r201239', '20221010', '2', 'online']]\n",
    "\n",
    "# Create DataFrame from RDD\n",
    "header = rdd_2.first()  # Extract header\n",
    "rdd_no_header = rdd_2.filter(lambda row: row != header)  # Remove header row\n",
    "\n",
    "# Define schema based on header\n",
    "df = rdd_no_header.toDF(header)\n",
    "df.show()"
   ]
  },
  {
   "cell_type": "markdown",
   "metadata": {},
   "source": [
    "# <a id='toc4_'></a>[Create an RDD from the Existing RDD with a constant column](#toc0_)"
   ]
  },
  {
   "cell_type": "code",
   "execution_count": 6,
   "metadata": {},
   "outputs": [
    {
     "data": {
      "text/plain": [
       "[['rechargeid', 'rechargedate', 'remainingdays', 'validity', 'constant'],\n",
       " ['r201235', '20200511', '1', 'online', 'constant'],\n",
       " ['r201236', '20210315', '3', 'offline', 'constant'],\n",
       " ['r201237', '20220101', '5', 'online', 'constant'],\n",
       " ['r201238', '20211225', '7', 'offline', 'constant'],\n",
       " ['r201239', '20221010', '2', 'online', 'constant']]"
      ]
     },
     "execution_count": 6,
     "metadata": {},
     "output_type": "execute_result"
    }
   ],
   "source": [
    "rdd_3 = rdd_2.map(lambda a: a + ['constant'])\n",
    "\n",
    "rdd_3.collect()"
   ]
  },
  {
   "cell_type": "markdown",
   "metadata": {},
   "source": [
    "# <a id='toc5_'></a>[Create an Empty RDD](#toc0_)"
   ]
  },
  {
   "cell_type": "code",
   "execution_count": 11,
   "metadata": {},
   "outputs": [
    {
     "name": "stdout",
     "output_type": "stream",
     "text": [
      "<bound method SparkContext.emptyRDD of <SparkContext master=local[*] appName=RDD-Examples>>\n"
     ]
    }
   ],
   "source": [
    "rdd_4 = spark.sparkContext.emptyRDD\n",
    "print(rdd_4)"
   ]
  },
  {
   "cell_type": "code",
   "execution_count": 8,
   "metadata": {},
   "outputs": [
    {
     "name": "stdout",
     "output_type": "stream",
     "text": [
      "ParallelCollectionRDD[18] at readRDDFromFile at PythonRDD.scala:289\n"
     ]
    },
    {
     "data": {
      "text/plain": [
       "[]"
      ]
     },
     "execution_count": 8,
     "metadata": {},
     "output_type": "execute_result"
    }
   ],
   "source": [
    "rdd_5 = spark.sparkContext.parallelize([])\n",
    "print(rdd_5)\n",
    "rdd_5.collect()"
   ]
  },
  {
   "cell_type": "markdown",
   "metadata": {},
   "source": [
    "# <a id='toc6_'></a>[Create a Key-Value RDD](#toc0_)"
   ]
  },
  {
   "cell_type": "code",
   "execution_count": 12,
   "metadata": {},
   "outputs": [
    {
     "data": {
      "text/plain": [
       "[('hello', 1), ('world', 1), ('good', 1), ('hello', 1)]"
      ]
     },
     "execution_count": 12,
     "metadata": {},
     "output_type": "execute_result"
    }
   ],
   "source": [
    "rdd_6 = spark.sparkContext.parallelize([\"hello\",\"world\",\"good\",\"hello\"])\n",
    "rdd_6.map(lambda w: (w,1)).collect()"
   ]
  },
  {
   "cell_type": "code",
   "execution_count": null,
   "metadata": {},
   "outputs": [],
   "source": []
  }
 ],
 "metadata": {
  "kernelspec": {
   "display_name": "Python 3",
   "language": "python",
   "name": "python3"
  },
  "language_info": {
   "codemirror_mode": {
    "name": "ipython",
    "version": 3
   },
   "file_extension": ".py",
   "mimetype": "text/x-python",
   "name": "python",
   "nbconvert_exporter": "python",
   "pygments_lexer": "ipython3",
   "version": "3.9.12"
  }
 },
 "nbformat": 4,
 "nbformat_minor": 2
}
